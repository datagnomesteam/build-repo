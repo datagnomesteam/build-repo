{
 "cells": [
  {
   "cell_type": "code",
   "execution_count": 8,
   "id": "232b98d9-30b7-448f-8237-8a87dfe423b5",
   "metadata": {},
   "outputs": [
    {
     "name": "stderr",
     "output_type": "stream",
     "text": [
      "[nltk_data] Downloading package stopwords to\n",
      "[nltk_data]     C:\\Users\\prpar\\AppData\\Roaming\\nltk_data...\n",
      "[nltk_data]   Package stopwords is already up-to-date!\n",
      "[nltk_data] Downloading package punkt_tab to\n",
      "[nltk_data]     C:\\Users\\prpar\\AppData\\Roaming\\nltk_data...\n",
      "[nltk_data]   Package punkt_tab is already up-to-date!\n"
     ]
    },
    {
     "data": {
      "text/plain": [
       "True"
      ]
     },
     "execution_count": 8,
     "metadata": {},
     "output_type": "execute_result"
    }
   ],
   "source": [
    "\"\"\"\n",
    "this file clusters device and manufacturer cols within the desried table.\n",
    "\n",
    "prereq:\n",
    "pip install scikit-learn nltk matplotlib cleanco levenshtein name_matching seaborn\n",
    "\"\"\"\n",
    "import time\n",
    "from get_data import get_dfs\n",
    "import pandas as pd\n",
    "import nltk\n",
    "from nltk.corpus import stopwords\n",
    "from nltk.tokenize import word_tokenize\n",
    "from nltk.probability import FreqDist\n",
    "from sklearn.feature_extraction.text import TfidfVectorizer\n",
    "import numpy as np\n",
    "from sklearn.cluster import KMeans\n",
    "from sklearn.preprocessing import StandardScaler\n",
    "from sklearn.manifold import TSNE\n",
    "import matplotlib.pyplot as plt\n",
    "import re\n",
    "import unicodedata\n",
    "from cleanco import basename\n",
    "import time\n",
    "import Levenshtein\n",
    "from name_matching.name_matcher import NameMatcher\n",
    "import seaborn as sns\n",
    "from sklearn.cluster import AgglomerativeClustering\n",
    "from scipy.cluster.hierarchy import linkage\n",
    "\n",
    "nltk.download('stopwords')\n",
    "nltk.download('punkt_tab')\n",
    "\n"
   ]
  },
  {
   "cell_type": "code",
   "execution_count": 9,
   "id": "eeee0335-f825-43f8-8f6c-0aaf02eabe58",
   "metadata": {
    "scrolled": true
   },
   "outputs": [
    {
     "name": "stdout",
     "output_type": "stream",
     "text": [
      "loading table: recall....\n"
     ]
    },
    {
     "name": "stderr",
     "output_type": "stream",
     "text": [
      "C:\\Users\\prpar\\Documents\\OMSCS\\s25 - cse6242 dva\\CSE6242-Group-Project\\priya-streamlit-test\\get_data.py:34: UserWarning: pandas only supports SQLAlchemy connectable (engine/connection) or database string URI or sqlite3 DBAPI2 connection. Other DBAPI2 objects are not tested. Please consider using SQLAlchemy.\n",
      "  df = pd.read_sql_query(f'select * from {table}', conn)\n"
     ]
    },
    {
     "name": "stdout",
     "output_type": "stream",
     "text": [
      "                                     id cfres_id k_number pma_number  \\\n",
      "0  400cd411-6ba1-4360-9fea-b55e13468d00   212115     None       None   \n",
      "1  1d35718a-6bc8-4706-bd3d-31741cd98324   212318     None       None   \n",
      "2  224a2ab8-97ef-4799-879e-6083898ab2e7   211119     None       None   \n",
      "3  b264b469-7c7f-48d5-bea0-57f38377569a   208478     None       None   \n",
      "4  0aad8582-1a51-4374-998c-50cc0f4b4466   207500     None       None   \n",
      "\n",
      "  event_date_initiated event_date_created event_date_posted  \\\n",
      "0           2025-01-15               None        2025-02-05   \n",
      "1           2025-01-28               None        2025-02-03   \n",
      "2           2024-08-08               None        2024-12-03   \n",
      "3           2024-03-28               None        2024-07-01   \n",
      "4           2024-04-16               None        2024-05-30   \n",
      "\n",
      "  event_date_terminated     recall_status                   recalling_firm  \\\n",
      "0                  None  Open, Classified        Philips North America Llc   \n",
      "1                  None  Open, Classified          GE Medical Systems, LLC   \n",
      "2                  None  Open, Classified               Epilog Laser Corp.   \n",
      "3                  None  Open, Classified  Horiba Instruments Incorporated   \n",
      "4                  None  Open, Classified          Reflexion Medical, Inc.   \n",
      "\n",
      "   ... res_event_number                       root_cause_description  \\\n",
      "0  ...            96138                              Software design   \n",
      "1  ...            96208  Radiation Control for Health and Safety Act   \n",
      "2  ...            95757  Radiation Control for Health and Safety Act   \n",
      "3  ...            94839  Radiation Control for Health and Safety Act   \n",
      "4  ...            94533                              Software design   \n",
      "\n",
      "                                              action device_class  \\\n",
      "0  Philips began notifying consignees on about 01...            2   \n",
      "1  Firm sent an \"IMPORTANT ELECTRONIC PRODUCT RAD...            2   \n",
      "2  The measures to be taken to repair such defect...            N   \n",
      "3  Horiba plans to issue an IMPORTANT ELECTRONIC ...            N   \n",
      "4  On 04/29/2024, the firm sent an \"Urgent: Medic...            2   \n",
      "\n",
      "                                         device_name  \\\n",
      "0  Monitor, Physiological, Patient(With Arrhythmi...   \n",
      "1                          System, X-Ray, Stationary   \n",
      "2  Laser Marker Or Engraver, Industrial Or Commer...   \n",
      "3                            Spectroscopy Instrument   \n",
      "4  Fludeoxyglucose F18-Guided Radiation Therapy S...   \n",
      "\n",
      "  medical_specialty_description regulation_number  \\\n",
      "0                Cardiovascular          870.1025   \n",
      "1                     Radiology          892.1680   \n",
      "2                       Unknown              None   \n",
      "3                       Unknown              None   \n",
      "4                     Radiology          892.5060   \n",
      "\n",
      "                                          fei_number  \\\n",
      "0  [3006979678, 3021559257, 3009617712, 301359602...   \n",
      "1  [, 3001556265, 3009617712, 2243057, 3005116291...   \n",
      "2                                               None   \n",
      "3                                               None   \n",
      "4                                       [3011716550]   \n",
      "\n",
      "                                    openfda_k_number  \\\n",
      "0  [K000854, K161056, K001433, K043551, K053207, ...   \n",
      "1  [K182517, K193637, K861994, K121854, K952871, ...   \n",
      "2                                               None   \n",
      "3                                               None   \n",
      "4                                        [DEN220014]   \n",
      "\n",
      "                                 registration_number  \n",
      "0  [3006979678, 8030978, 3021559257, 3009617712, ...  \n",
      "1  [, 3001556265, 3009617712, 2243057, 3014403439...  \n",
      "2                                               None  \n",
      "3                                               None  \n",
      "4                                       [3011716550]  \n",
      "\n",
      "[5 rows x 36 columns]\n",
      "loading table: device_event....\n"
     ]
    },
    {
     "name": "stderr",
     "output_type": "stream",
     "text": [
      "C:\\Users\\prpar\\Documents\\OMSCS\\s25 - cse6242 dva\\CSE6242-Group-Project\\priya-streamlit-test\\get_data.py:34: UserWarning: pandas only supports SQLAlchemy connectable (engine/connection) or database string URI or sqlite3 DBAPI2 connection. Other DBAPI2 objects are not tested. Please consider using SQLAlchemy.\n",
      "  df = pd.read_sql_query(f'select * from {table}', conn)\n"
     ]
    },
    {
     "name": "stdout",
     "output_type": "stream",
     "text": [
      "                               event_id adverse_event_flag  \\\n",
      "0  137fc417-abd2-4c92-af98-f816d9d1b01c                  N   \n",
      "1  7d7e75df-69d0-4344-a609-d8294fcaf9e1                  N   \n",
      "2  b112bfb0-4306-498a-8ab9-76076641f4f9                  N   \n",
      "3  ea373448-a219-4494-9cb6-2b3fbb403c8f                  N   \n",
      "4  52eeaa61-643d-4452-aaa6-0b831af004c5                  N   \n",
      "\n",
      "  date_facility_aware date_manufacturer_received date_of_event date_received  \\\n",
      "0                None                 2024-01-22    2024-01-22    2024-02-12   \n",
      "1                None                 2024-01-18    2024-01-01    2024-02-12   \n",
      "2                None                 2023-12-22    2023-12-22    2024-01-19   \n",
      "3                None                 2024-01-24    2024-01-14    2024-02-12   \n",
      "4          2024-02-19                       None          None    2024-03-15   \n",
      "\n",
      "  date_report date_report_to_fda date_report_to_manufacturer  \\\n",
      "0  2024-02-12               None                        None   \n",
      "1  2024-03-13               None                        None   \n",
      "2  2024-03-19               None                        None   \n",
      "3  2024-02-12               None                        None   \n",
      "4  2024-02-19         2024-03-15                  2024-02-19   \n",
      "\n",
      "  device_date_of_manufacturer  ... report_date           report_number  \\\n",
      "0                  2020-03-01  ...        None   3013756811-2024-21297   \n",
      "1                  2013-08-17  ...        None      2028159-2024-00217   \n",
      "2                  2007-01-29  ...        None      2112667-2024-00415   \n",
      "3                        None  ...        None  3004753838-2024-035911   \n",
      "4                        None  ...  2024-03-15      6000034-2024-00965   \n",
      "\n",
      "    report_source_code report_to_fda report_to_manufacturer  \\\n",
      "0  Manufacturer report             Y                   None   \n",
      "1  Manufacturer report          None                   None   \n",
      "2  Manufacturer report             N                   None   \n",
      "3  Manufacturer report          None                   None   \n",
      "4   Distributor report             Y                   None   \n",
      "\n",
      "  reporter_occupation_code reprocessed_and_reused_flag single_use_flag  \\\n",
      "0                    OTHER                           N               N   \n",
      "1                      003                           N            None   \n",
      "2      BIOMEDICAL ENGINEER                           N               N   \n",
      "3                    OTHER                           N               Y   \n",
      "4                    OTHER                           N            None   \n",
      "\n",
      "                                     source_type  \\\n",
      "0                                     [Consumer]   \n",
      "1                                      [Foreign]   \n",
      "2  [Foreign, Health Professional, User facility]   \n",
      "3                                     [Consumer]   \n",
      "4                                             []   \n",
      "\n",
      "                   type_of_report  \n",
      "0            [Initial submission]  \n",
      "1  [Initial submission, Followup]  \n",
      "2  [Initial submission, Followup]  \n",
      "3            [Initial submission]  \n",
      "4            [Initial submission]  \n",
      "\n",
      "[5 rows x 78 columns]\n",
      "loading table: device....\n"
     ]
    },
    {
     "name": "stderr",
     "output_type": "stream",
     "text": [
      "C:\\Users\\prpar\\Documents\\OMSCS\\s25 - cse6242 dva\\CSE6242-Group-Project\\priya-streamlit-test\\get_data.py:34: UserWarning: pandas only supports SQLAlchemy connectable (engine/connection) or database string URI or sqlite3 DBAPI2 connection. Other DBAPI2 objects are not tested. Please consider using SQLAlchemy.\n",
      "  df = pd.read_sql_query(f'select * from {table}', conn)\n"
     ]
    },
    {
     "name": "stdout",
     "output_type": "stream",
     "text": [
      "                               event_id  \\\n",
      "0  137fc417-abd2-4c92-af98-f816d9d1b01c   \n",
      "1  137fc417-abd2-4c92-af98-f816d9d1b01c   \n",
      "2  7d7e75df-69d0-4344-a609-d8294fcaf9e1   \n",
      "3  7d7e75df-69d0-4344-a609-d8294fcaf9e1   \n",
      "4  b112bfb0-4306-498a-8ab9-76076641f4f9   \n",
      "\n",
      "                                          brand_name catalog_number  \\\n",
      "0  T:SLIM X2 INSULIN PUMP WITH INTEROPERABLE TECH...        1005011   \n",
      "1  T:SLIM X2 INSULIN PUMP WITH INTEROPERABLE TECH...        1005011   \n",
      "2                        CONSTELLATION VISION SYSTEM     8065751150   \n",
      "3                        CONSTELLATION VISION SYSTEM     8065751150   \n",
      "4                                       AESPIRE 7100           None   \n",
      "\n",
      "  date_received date_removed_flag date_returned_to_manufacturer  \\\n",
      "0    2024-02-12              None                          None   \n",
      "1    2024-02-12              None                          None   \n",
      "2    2024-02-12              None                          None   \n",
      "3    2024-02-12              None                          None   \n",
      "4    2024-01-19              None                          None   \n",
      "\n",
      "  device_age_text device_availability device_evaluated_by_manufacturer  \\\n",
      "0            None                 Yes                                R   \n",
      "1            None                 Yes                                R   \n",
      "2              DA                  No                                R   \n",
      "3              DA                  No                                R   \n",
      "4              DA                  No                                Y   \n",
      "\n",
      "                       device_event_key  ... manufacturer_d_city  \\\n",
      "0  137fc417-abd2-4c92-af98-f816d9d1b01c  ...           SAN DIEGO   \n",
      "1  137fc417-abd2-4c92-af98-f816d9d1b01c  ...           SAN DIEGO   \n",
      "2  7d7e75df-69d0-4344-a609-d8294fcaf9e1  ...              IRVINE   \n",
      "3  7d7e75df-69d0-4344-a609-d8294fcaf9e1  ...              IRVINE   \n",
      "4  b112bfb0-4306-498a-8ab9-76076641f4f9  ...            MADISON,   \n",
      "\n",
      "  manufacturer_d_country                             manufacturer_d_name  \\\n",
      "0                     US                            TANDEM DIABETES CARE   \n",
      "1                     US                            TANDEM DIABETES CARE   \n",
      "2                     US  ALCON RESEARCH, LLC - IRVINE TECHNOLOGY CENTER   \n",
      "3                     US  ALCON RESEARCH, LLC - IRVINE TECHNOLOGY CENTER   \n",
      "4                     US                              DATEX-OHMEDA, INC.   \n",
      "\n",
      "  manufacturer_d_postal_code manufacturer_d_state manufacturer_d_zip_code  \\\n",
      "0                      92130                   CA                   92130   \n",
      "1                      92130                   CA                   92130   \n",
      "2                      92618                   CA                   92618   \n",
      "3                      92618                   CA                   92618   \n",
      "4                      53718                   WI                   53718   \n",
      "\n",
      "  manufacturer_d_zip_code_ext model_number other_id_number udi_public  \n",
      "0                        None      1002717            None       None  \n",
      "1                        None      1002717            None       None  \n",
      "2                        None     TABLETOP            None       None  \n",
      "3                        None     TABLETOP            None       None  \n",
      "4                        None         None            None       None  \n",
      "\n",
      "[5 rows x 30 columns]\n",
      "\n",
      "----- elapsed time: 25.08635401725769 seconds -----\n"
     ]
    }
   ],
   "source": [
    "# read dfs\n",
    "df_recall, df_device_event, df_device = get_dfs()"
   ]
  },
  {
   "cell_type": "code",
   "execution_count": 10,
   "id": "9f1fdb02-8c01-4a0f-81e2-b51ffba87ab0",
   "metadata": {},
   "outputs": [
    {
     "name": "stdout",
     "output_type": "stream",
     "text": [
      "(54520, 36)\n",
      "(100000, 78)\n",
      "(199943, 30)\n"
     ]
    }
   ],
   "source": [
    "print(df_recall.shape)\n",
    "print(df_device_event.shape)\n",
    "print(df_device.shape)"
   ]
  },
  {
   "cell_type": "markdown",
   "id": "cef3fbf9-46f3-4130-85a3-0cae9336c5f7",
   "metadata": {},
   "source": [
    "## preprocess relevant columns\n",
    "\n",
    "From df_recall, we want to pull recalling_firm.\n",
    "From df_device, we want to pull manufacturer_d_name."
   ]
  },
  {
   "cell_type": "code",
   "execution_count": 11,
   "id": "4cdccaaa-d0b0-4391-9cd3-4c1c19d51a49",
   "metadata": {},
   "outputs": [],
   "source": [
    "def preprocess(df, col):\n",
    "    \"\"\"\n",
    "    0. replace Nan with empty string\n",
    "    1. lower\n",
    "    2. remove non-ascii chars\n",
    "    3. remove punctuation\n",
    "    4. remove common legal business strings (like 'corp')\n",
    "    \"\"\"\n",
    "    # remove NaN or None\n",
    "    df = df.fillna('')\n",
    "    \n",
    "    stop_words = set(stopwords.words('english'))\n",
    "    def f(x):\n",
    "        x = x.lower() # step 1\n",
    "        x = unicodedata.normalize('NFKD', x).encode('ASCII', 'ignore').decode() # step 2\n",
    "        x = re.sub(r'[^\\w\\s]', '', x) # step 3\n",
    "        x = basename(x) # step 4\n",
    "        return x\n",
    "        \n",
    "    return df[col].apply(lambda x: f(x))\n",
    "    \n",
    "    "
   ]
  },
  {
   "cell_type": "code",
   "execution_count": 14,
   "id": "613eeed0-3be2-4ec7-8811-2748085e6393",
   "metadata": {},
   "outputs": [],
   "source": [
    "df_recall['preproc_recalling_firm'] = preprocess(df_recall, 'recalling_firm')\n",
    "df_recall['preproc_device_name'] = preprocess(df_recall, 'device_name')\n",
    "\n",
    "df_device['preproc_manufacturer_d_name'] = preprocess(df_device, 'manufacturer_d_name')\n",
    "df_device['preproc_generic_name'] = preprocess(df_device, 'generic_name')"
   ]
  },
  {
   "cell_type": "code",
   "execution_count": null,
   "id": "f9e200a4-1d57-4794-8e9c-10255b4c5c04",
   "metadata": {},
   "outputs": [],
   "source": [
    "# function to vectorize two columns within desired df\n",
    "def vectorize_text(df, col1, col2, method='tfidf'):\n",
    "    \"\"\"\n",
    "    convert text data into numerical representations.\n",
    "    Possible methods:\n",
    "    - bag of words\n",
    "    - tf-idf\n",
    "    \"\"\"\n",
    "    if method == 'tfidf':\n",
    "        vectorizer = TfidfVectorizer()\n",
    "    else:\n",
    "        vectorizer = CountVectorizer()\n",
    "\n",
    "    df['combined'] = df[col1] + ' | ' + df[col2]\n",
    "    df['combined'].fillna('', inplace=True)\n",
    "    X = vectorizer.fit_transform(df['combined'].values)\n",
    "\n",
    "    return X, vectorizer # return vectorizer so it can be used later to assign cluster id to dfs\n",
    "        \n",
    "        "
   ]
  },
  {
   "cell_type": "code",
   "execution_count": null,
   "id": "1f75cdef-33ba-4372-82c7-3217ab04ea77",
   "metadata": {},
   "outputs": [],
   "source": []
  },
  {
   "cell_type": "markdown",
   "id": "bf72130d-6e1d-4279-8b85-1d2028dd3bca",
   "metadata": {},
   "source": [
    "## cluster using linkage (agglomerative clustering)\n",
    "General procedure:\n",
    "1. given a specified df and col1 and col2, perform vectorization and hierarchial clustering\n",
    "2. create cluster map\n"
   ]
  },
  {
   "cell_type": "code",
   "execution_count": null,
   "id": "d5c7fec1-f1c8-41a0-981f-422556f0acf0",
   "metadata": {},
   "outputs": [],
   "source": [
    "# this function applies clustering to group similar text and creates cluster map\n",
    "def cluster(df, col1, col2):\n",
    "    # drop Nans\n",
    "    \n",
    "    X, vectorizer = vectorize_text(df, col1, col2)\n",
    "    link = linkage(X.toarray(), 'ward')\n",
    "    return X, link\n",
    "\n",
    "def show_cluster_map(X, link):\n",
    "    sns.clustermap(X.toarray(), row_linkage=link, col_cluster=False)\n",
    "    plt.show()\n",
    "    \n"
   ]
  },
  {
   "cell_type": "code",
   "execution_count": null,
   "id": "c39a676a-70bb-4e0a-9d30-5c9eea88d021",
   "metadata": {
    "scrolled": true
   },
   "outputs": [],
   "source": [
    "start = time.time()\n",
    "X, link = cluster(df_recall, 'recalling_firm', 'device_name')\n",
    "print(f'------------ elapsed train time: {time.time() - start} seconds -------------')"
   ]
  },
  {
   "cell_type": "code",
   "execution_count": null,
   "id": "a078c3ba-8fa1-4547-ae68-29f537b7d2c9",
   "metadata": {
    "scrolled": true
   },
   "outputs": [],
   "source": [
    "start = time.time()\n",
    "show_cluster_map(X, link)\n",
    "print(f'------------ elapsed plot time: {time.time() - start} seconds -------------')"
   ]
  },
  {
   "cell_type": "code",
   "execution_count": null,
   "id": "b9b7253d-5b8f-41f3-b46c-58b80b0b1064",
   "metadata": {},
   "outputs": [],
   "source": [
    "########## I DID NOT GET THIS TO RUN #########"
   ]
  }
 ],
 "metadata": {
  "kernelspec": {
   "display_name": "Python 3 (ipykernel)",
   "language": "python",
   "name": "python3"
  },
  "language_info": {
   "codemirror_mode": {
    "name": "ipython",
    "version": 3
   },
   "file_extension": ".py",
   "mimetype": "text/x-python",
   "name": "python",
   "nbconvert_exporter": "python",
   "pygments_lexer": "ipython3",
   "version": "3.10.11"
  }
 },
 "nbformat": 4,
 "nbformat_minor": 5
}
