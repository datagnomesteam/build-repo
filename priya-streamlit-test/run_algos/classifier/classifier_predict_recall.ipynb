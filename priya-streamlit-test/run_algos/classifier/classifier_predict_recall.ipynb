{
 "cells": [
  {
   "cell_type": "code",
   "execution_count": 1,
   "id": "232b98d9-30b7-448f-8237-8a87dfe423b5",
   "metadata": {},
   "outputs": [
    {
     "name": "stderr",
     "output_type": "stream",
     "text": [
      "[nltk_data] Downloading package stopwords to\n",
      "[nltk_data]     C:\\Users\\prpar\\AppData\\Roaming\\nltk_data...\n",
      "[nltk_data]   Package stopwords is already up-to-date!\n",
      "[nltk_data] Downloading package punkt_tab to\n",
      "[nltk_data]     C:\\Users\\prpar\\AppData\\Roaming\\nltk_data...\n",
      "[nltk_data]   Package punkt_tab is already up-to-date!\n"
     ]
    },
    {
     "data": {
      "text/plain": [
       "True"
      ]
     },
     "execution_count": 1,
     "metadata": {},
     "output_type": "execute_result"
    }
   ],
   "source": [
    "\"\"\"\n",
    "\n",
    "RUN THIS IN THE run_algos/classifier directory\n",
    "\n",
    "this file takes explores logistic regression models.\n",
    "\n",
    "Potential IDEA: combined/joined df of recall and adverse events and creates a model to predict the likelihood\n",
    "of an adverse event, and if so, which type. \n",
    "\n",
    "\n",
    "pip install scikit-learn nltk matplotlib cleanco levenshtein name_matching xgboost pyspark\n",
    "\n",
    "\"\"\"\n",
    "\n",
    "import pandas as pd\n",
    "import nltk\n",
    "from nltk.corpus import stopwords\n",
    "from nltk.tokenize import word_tokenize\n",
    "from nltk.probability import FreqDist\n",
    "from sklearn.feature_extraction.text import TfidfVectorizer\n",
    "import numpy as np\n",
    "from sklearn.cluster import KMeans\n",
    "from sklearn.preprocessing import StandardScaler\n",
    "from sklearn.manifold import TSNE\n",
    "import matplotlib.pyplot as plt\n",
    "import re\n",
    "import unicodedata\n",
    "from cleanco import basename\n",
    "import time\n",
    "import Levenshtein\n",
    "from name_matching.name_matcher import NameMatcher\n",
    "import pickle\n",
    "import os\n",
    "import psycopg2\n",
    "\n",
    "\n",
    "nltk.download('stopwords')\n",
    "nltk.download('punkt_tab')\n",
    "\n"
   ]
  },
  {
   "cell_type": "code",
   "execution_count": 2,
   "id": "8435e443-0faf-472d-af00-1057fb3634f4",
   "metadata": {
    "scrolled": true
   },
   "outputs": [],
   "source": [
    "# get data from db. we want this to emulate reading real-time data\n",
    "\n",
    "# PREREQ: in terminal, import the data with the following command:\n",
    "# $ zstd --stdout -d pg-slim.zst | psql --dbname=[name] -U [user]\n",
    "# OR run import_postgres_dump()\n",
    "\n",
    "def import_postgres_dump(dump_file_path='../pg-slim', ):\n",
    "    try:\n",
    "        DB_PARAMS = {\n",
    "            \"host\": \"localhost\",\n",
    "            \"database\": \"openfda_slim\",\n",
    "            \"user\": \"postgres\",\n",
    "            \"password\": os.environ.get(\"postgres_password\"),\n",
    "            \"port\": 5432\n",
    "        }\n",
    "        conn = psycopg2.connect(**DB_PARAMS)\n",
    "        conn.autocommit = True\n",
    "        cursor = conn.cursor()\n",
    "        # read the dump file\n",
    "        with open(dump_file_path, 'r') as f:\n",
    "            sql = f.read()\n",
    "            \n",
    "        # execute file contentsL\n",
    "        cursor.execute(sql)\n",
    "        \n",
    "        print(\"Dump imported successfully\")\n",
    "        \n",
    "    except Exception as e:\n",
    "        print(f\"Error importing dump: {e}\")    \n",
    "\n",
    "\n",
    "def read_table(table,query=None):\n",
    "    DB_PARAMS = {\n",
    "        \"host\": \"localhost\",\n",
    "        \"database\": \"openfda_recalls\",\n",
    "        \"user\": \"postgres\",\n",
    "        \"password\": os.environ.get(\"postgres_password\"),\n",
    "        \"port\": 5432\n",
    "    }\n",
    "    def get_postgres_conn():\n",
    "        conn = None\n",
    "        try:\n",
    "            conn = psycopg2.connect(**DB_PARAMS)\n",
    "            return conn\n",
    "        \n",
    "        except psycopg2.Error as e:\n",
    "            print(f\"Database error: {e}\")\n",
    "            return pd.DataFrame()\n",
    "    conn = get_postgres_conn()\n",
    "    print(f'loading table: {table}....')\n",
    "    if query is None:\n",
    "        query = f'select * from {table}'\n",
    "    df = pd.read_sql_query(query, conn)\n",
    "    conn.close()\n",
    "    return df\n"
   ]
  },
  {
   "cell_type": "code",
   "execution_count": 3,
   "id": "7a5e9b38-7ed5-4c4d-bfc9-0fc07e97fd84",
   "metadata": {},
   "outputs": [],
   "source": [
    "# NOTE: i got a memory error even running this \n",
    "\n",
    "# start = time.time()\n",
    "# import_postgres_dump() # only need to run once locally. this will take a while..\n",
    "# print(f'runtime: {time.time()-start} seconds')"
   ]
  },
  {
   "cell_type": "code",
   "execution_count": 4,
   "id": "282a7e6f-7e03-4156-ad41-188e3d10d9b6",
   "metadata": {},
   "outputs": [
    {
     "name": "stdout",
     "output_type": "stream",
     "text": [
      "loading table: device_event....\n"
     ]
    },
    {
     "name": "stderr",
     "output_type": "stream",
     "text": [
      "C:\\Users\\prpar\\AppData\\Local\\Temp\\ipykernel_36356\\3962781003.py:53: UserWarning: pandas only supports SQLAlchemy connectable (engine/connection) or database string URI or sqlite3 DBAPI2 connection. Other DBAPI2 objects are not tested. Please consider using SQLAlchemy.\n",
      "  df = pd.read_sql_query(query, conn)\n"
     ]
    },
    {
     "name": "stdout",
     "output_type": "stream",
     "text": [
      "loading table: device_classification....\n",
      "loading table: recall....\n"
     ]
    }
   ],
   "source": [
    "# get device event\n",
    "df_device_event = read_table('device_event',\n",
    "                             \"\"\"\n",
    "                             select distinct d.manufacturer_d_name, e.event_type, device_report_product_code, d.openfda_regulation_number, d.model_number, d.openfda_device_name\n",
    "                             from device_event e join device d on d.event_id = e.event_id\n",
    "                             \"\"\"\n",
    "                            )\n",
    "# get classification\n",
    "df_class = read_table('device_classification')\n",
    "\n",
    "# get recall\n",
    "df_recall = read_table('recall',\n",
    "                      '''\n",
    "                      select openfda_device_name, count(*) recall_count from recall group by openfda_device_name\n",
    "                      '''\n",
    "                      )\n"
   ]
  },
  {
   "cell_type": "markdown",
   "id": "cef3fbf9-46f3-4130-85a3-0cae9336c5f7",
   "metadata": {},
   "source": [
    "## basic procedure"
   ]
  },
  {
   "cell_type": "markdown",
   "id": "0ef84f25-56de-45fc-9594-26ef07d484f4",
   "metadata": {},
   "source": [
    "FROM REPORT: \n",
    "\n",
    "Our response was a binary variable for whether or not the device\n",
    "was recalled. Our initial predictors were the number\n",
    "of times each device had been associated with a\n",
    "particular event type, the FDA classification of the\n",
    "device (represented as a series of binary features,\n",
    "one for each device class), the regulation code of the\n",
    "device (represented as a series of binary features,\n",
    "one for each regulation code), whether the device\n",
    "had undergone the pre-market approval process,\n",
    "and whether the device had undergone the 510K\n",
    "notification process. "
   ]
  },
  {
   "cell_type": "markdown",
   "id": "eaf9cef9-6aad-43bb-8898-da0d901b2336",
   "metadata": {},
   "source": [
    "LOGISTIC REGRESSION: given a device event, predict the likelihood of a recall."
   ]
  },
  {
   "cell_type": "markdown",
   "id": "7518b2ec-1800-42a6-95ac-7b8a45ff2b28",
   "metadata": {},
   "source": [
    "required data: \n",
    "- event_type (events)\n",
    "- count (events)\n",
    "- product code (classification)\n",
    "- device name (classification)\n",
    "- device classification (classification)\n",
    "- regulation number (classification)\n",
    "- pre-market approved? (classification) --> check submission_type_id = 2\n",
    "- 510k process? (classification) --> submission_type_id = 1\n",
    "- recall device name? (recall) --> check if join successful"
   ]
  },
  {
   "cell_type": "code",
   "execution_count": 5,
   "id": "02ff778b-8c4f-45af-923c-16db34999ff1",
   "metadata": {},
   "outputs": [],
   "source": [
    "def preprocess(df, col):\n",
    "    \"\"\"\n",
    "    0. replace Nan with empty string\n",
    "    1. lower and strip spaces\n",
    "    2. remove non-ascii chars\n",
    "    3. remove punctuation\n",
    "    4. remove common legal business strings (like 'corp')\n",
    "    \"\"\"\n",
    "    # remove NaN or None\n",
    "    df = df.fillna('')\n",
    "    \n",
    "    stop_words = set(stopwords.words('english'))\n",
    "    def f(x):\n",
    "        x = x.lower().strip() # step 1\n",
    "        x = unicodedata.normalize('NFKD', x).encode('ASCII', 'ignore').decode() # step 2\n",
    "        x = re.sub(r'[^\\w\\s]', '', x) # step 3\n",
    "        x = basename(x) # step 4\n",
    "        return x\n",
    "        \n",
    "    return df[col].apply(lambda x: f(x))\n",
    "    \n",
    "    "
   ]
  },
  {
   "cell_type": "markdown",
   "id": "3cd69d40-be0b-4e28-ac19-46718abb34e1",
   "metadata": {},
   "source": [
    "## preprocess data"
   ]
  },
  {
   "cell_type": "code",
   "execution_count": 6,
   "id": "59bd5fe8-7bf4-40fb-8827-832b3272f251",
   "metadata": {},
   "outputs": [],
   "source": [
    "# preprocess names where applicable\n",
    "df_device_event['prprc_manufacturer_d_name'] = preprocess(df_device_event, 'manufacturer_d_name')\n",
    "df_device_event['prprc_event_device_name'] = preprocess(df_device_event, 'openfda_device_name')\n",
    "df_class['prprc_class_device_name'] = preprocess(df_class, 'device_name')\n",
    "df_recall['prprc_recall_device_name'] = preprocess(df_recall, 'openfda_device_name')"
   ]
  },
  {
   "cell_type": "markdown",
   "id": "ec44b454-cac6-46c0-ad24-97eb097b2e5a",
   "metadata": {},
   "source": [
    "## join event with device classification on name"
   ]
  },
  {
   "cell_type": "code",
   "execution_count": 7,
   "id": "9584bae3-39ca-4c1e-9e67-2d2840043262",
   "metadata": {},
   "outputs": [],
   "source": [
    "# join events with product code\n",
    "df_merged = df_device_event.merge(df_class, left_on='prprc_event_device_name', right_on='prprc_class_device_name')"
   ]
  },
  {
   "cell_type": "code",
   "execution_count": 8,
   "id": "b6f36466-bdaa-437f-9dce-2320bbf860ae",
   "metadata": {
    "scrolled": true
   },
   "outputs": [
    {
     "data": {
      "text/plain": [
       "10480"
      ]
     },
     "execution_count": 8,
     "metadata": {},
     "output_type": "execute_result"
    }
   ],
   "source": [
    "len(df_merged)"
   ]
  },
  {
   "cell_type": "code",
   "execution_count": 9,
   "id": "b341ea66-7282-4a35-9107-91e68e3d69a1",
   "metadata": {},
   "outputs": [],
   "source": [
    "# if submission_type_id = 1, then 510k approved\n",
    "# if submission_type_id = 2, then PMA approved\n",
    "# else, Other\n",
    "df_merged['pma_approval'] = df_merged['submission_type_id'].apply(lambda x: 1 if x == '2' else 0)\n",
    "df_merged['510k_approval'] = df_merged['submission_type_id'].apply(lambda x: 1 if x == '1' else 0)"
   ]
  },
  {
   "cell_type": "markdown",
   "id": "5d585fa7-cce3-4e28-9cd3-efea1d2278d3",
   "metadata": {},
   "source": [
    "## join with device recall "
   ]
  },
  {
   "cell_type": "code",
   "execution_count": 10,
   "id": "f7fea0b2-f408-4e32-bff6-c89b151984ef",
   "metadata": {},
   "outputs": [],
   "source": [
    "df_merged = df_merged.merge(df_recall, left_on='prprc_event_device_name', right_on='prprc_recall_device_name', how='left')"
   ]
  },
  {
   "cell_type": "code",
   "execution_count": 11,
   "id": "76d596f4-fe59-4a8b-ab0c-1d0b4ebcbce9",
   "metadata": {},
   "outputs": [
    {
     "data": {
      "text/plain": [
       "10490"
      ]
     },
     "execution_count": 11,
     "metadata": {},
     "output_type": "execute_result"
    }
   ],
   "source": [
    "len(df_merged)"
   ]
  },
  {
   "cell_type": "code",
   "execution_count": 12,
   "id": "8d641e55-5810-4df7-8161-8d0fce048cb1",
   "metadata": {
    "scrolled": true
   },
   "outputs": [],
   "source": [
    "df_merged['recall_count'] = df_merged['recall_count'].fillna(0.0)"
   ]
  },
  {
   "cell_type": "code",
   "execution_count": 13,
   "id": "076bc86c-66f9-4e72-9344-306a9ffe3ef1",
   "metadata": {},
   "outputs": [],
   "source": [
    "df_merged['recall'] = df_merged['recall_count'].apply(lambda x: 1 if x > 0.0 else 0)"
   ]
  },
  {
   "cell_type": "code",
   "execution_count": 14,
   "id": "488d66f7-08f5-4ef0-ad60-1cf7113ca445",
   "metadata": {},
   "outputs": [
    {
     "data": {
      "text/plain": [
       "recall\n",
       "1    9907\n",
       "0     583\n",
       "Name: count, dtype: int64"
      ]
     },
     "execution_count": 14,
     "metadata": {},
     "output_type": "execute_result"
    }
   ],
   "source": [
    "df_merged['recall'].value_counts()"
   ]
  },
  {
   "cell_type": "markdown",
   "id": "45252a08-596e-4a55-8cbb-1cd8481e10f7",
   "metadata": {},
   "source": [
    "## group to get event counts"
   ]
  },
  {
   "cell_type": "code",
   "execution_count": 15,
   "id": "47fbc607-bda4-42e5-997a-8a8464d26e42",
   "metadata": {},
   "outputs": [
    {
     "name": "stdout",
     "output_type": "stream",
     "text": [
      "Result contains: 1363 rows\n",
      "\n"
     ]
    },
    {
     "data": {
      "text/html": [
       "<div>\n",
       "<style scoped>\n",
       "    .dataframe tbody tr th:only-of-type {\n",
       "        vertical-align: middle;\n",
       "    }\n",
       "\n",
       "    .dataframe tbody tr th {\n",
       "        vertical-align: top;\n",
       "    }\n",
       "\n",
       "    .dataframe thead th {\n",
       "        text-align: right;\n",
       "    }\n",
       "</style>\n",
       "<table border=\"1\" class=\"dataframe\">\n",
       "  <thead>\n",
       "    <tr style=\"text-align: right;\">\n",
       "      <th></th>\n",
       "      <th>device_name</th>\n",
       "      <th>product_code</th>\n",
       "      <th>event_type</th>\n",
       "      <th>device_class</th>\n",
       "      <th>regulation_number</th>\n",
       "      <th>pma_approval</th>\n",
       "      <th>510k_approval</th>\n",
       "      <th>num_events</th>\n",
       "      <th>recall</th>\n",
       "    </tr>\n",
       "  </thead>\n",
       "  <tbody>\n",
       "    <tr>\n",
       "      <th>0</th>\n",
       "      <td>Absorbent, Carbon-Dioxide</td>\n",
       "      <td>CBL</td>\n",
       "      <td>Malfunction</td>\n",
       "      <td>1</td>\n",
       "      <td>868.5300</td>\n",
       "      <td>0</td>\n",
       "      <td>0</td>\n",
       "      <td>1</td>\n",
       "      <td>1</td>\n",
       "    </tr>\n",
       "    <tr>\n",
       "      <th>1</th>\n",
       "      <td>Abutment, Implant, Dental, Endosseous</td>\n",
       "      <td>NHA</td>\n",
       "      <td>Injury</td>\n",
       "      <td>2</td>\n",
       "      <td>872.3630</td>\n",
       "      <td>0</td>\n",
       "      <td>1</td>\n",
       "      <td>6</td>\n",
       "      <td>1</td>\n",
       "    </tr>\n",
       "    <tr>\n",
       "      <th>2</th>\n",
       "      <td>Abutment, Implant, Dental, Endosseous</td>\n",
       "      <td>NHA</td>\n",
       "      <td>Malfunction</td>\n",
       "      <td>2</td>\n",
       "      <td>872.3630</td>\n",
       "      <td>0</td>\n",
       "      <td>1</td>\n",
       "      <td>6</td>\n",
       "      <td>1</td>\n",
       "    </tr>\n",
       "    <tr>\n",
       "      <th>3</th>\n",
       "      <td>Accelerator, Linear, Medical</td>\n",
       "      <td>IYE</td>\n",
       "      <td>Malfunction</td>\n",
       "      <td>2</td>\n",
       "      <td>892.5050</td>\n",
       "      <td>0</td>\n",
       "      <td>1</td>\n",
       "      <td>1</td>\n",
       "      <td>1</td>\n",
       "    </tr>\n",
       "    <tr>\n",
       "      <th>4</th>\n",
       "      <td>Accessories, Arthroscopic</td>\n",
       "      <td>NBH</td>\n",
       "      <td>Malfunction</td>\n",
       "      <td>1</td>\n",
       "      <td>888.1100</td>\n",
       "      <td>0</td>\n",
       "      <td>0</td>\n",
       "      <td>11</td>\n",
       "      <td>1</td>\n",
       "    </tr>\n",
       "    <tr>\n",
       "      <th>5</th>\n",
       "      <td>Accessories, Blood Circuit, Hemodialysis</td>\n",
       "      <td>KOC</td>\n",
       "      <td>Malfunction</td>\n",
       "      <td>2</td>\n",
       "      <td>876.5820</td>\n",
       "      <td>0</td>\n",
       "      <td>1</td>\n",
       "      <td>2</td>\n",
       "      <td>1</td>\n",
       "    </tr>\n",
       "    <tr>\n",
       "      <th>6</th>\n",
       "      <td>Accessories, Catheter</td>\n",
       "      <td>KGZ</td>\n",
       "      <td>Malfunction</td>\n",
       "      <td>1</td>\n",
       "      <td>878.4200</td>\n",
       "      <td>0</td>\n",
       "      <td>0</td>\n",
       "      <td>2</td>\n",
       "      <td>1</td>\n",
       "    </tr>\n",
       "    <tr>\n",
       "      <th>7</th>\n",
       "      <td>Accessories, Cleaning Brushes, For Endoscope</td>\n",
       "      <td>MNL</td>\n",
       "      <td>Malfunction</td>\n",
       "      <td>1</td>\n",
       "      <td>876.1500</td>\n",
       "      <td>0</td>\n",
       "      <td>0</td>\n",
       "      <td>4</td>\n",
       "      <td>1</td>\n",
       "    </tr>\n",
       "    <tr>\n",
       "      <th>8</th>\n",
       "      <td>Accessories, Cleaning, For Endoscope</td>\n",
       "      <td>FEB</td>\n",
       "      <td>Malfunction</td>\n",
       "      <td>2</td>\n",
       "      <td>876.1500</td>\n",
       "      <td>0</td>\n",
       "      <td>1</td>\n",
       "      <td>10</td>\n",
       "      <td>1</td>\n",
       "    </tr>\n",
       "    <tr>\n",
       "      <th>9</th>\n",
       "      <td>Accessories, Implant, Dental, Endosseous</td>\n",
       "      <td>NDP</td>\n",
       "      <td>Malfunction</td>\n",
       "      <td>1</td>\n",
       "      <td>872.3980</td>\n",
       "      <td>0</td>\n",
       "      <td>0</td>\n",
       "      <td>2</td>\n",
       "      <td>1</td>\n",
       "    </tr>\n",
       "  </tbody>\n",
       "</table>\n",
       "</div>"
      ],
      "text/plain": [
       "                                    device_name product_code   event_type  \\\n",
       "0                     Absorbent, Carbon-Dioxide          CBL  Malfunction   \n",
       "1         Abutment, Implant, Dental, Endosseous          NHA       Injury   \n",
       "2         Abutment, Implant, Dental, Endosseous          NHA  Malfunction   \n",
       "3                  Accelerator, Linear, Medical          IYE  Malfunction   \n",
       "4                     Accessories, Arthroscopic          NBH  Malfunction   \n",
       "5      Accessories, Blood Circuit, Hemodialysis          KOC  Malfunction   \n",
       "6                         Accessories, Catheter          KGZ  Malfunction   \n",
       "7  Accessories, Cleaning Brushes, For Endoscope          MNL  Malfunction   \n",
       "8          Accessories, Cleaning, For Endoscope          FEB  Malfunction   \n",
       "9      Accessories, Implant, Dental, Endosseous          NDP  Malfunction   \n",
       "\n",
       "  device_class regulation_number  pma_approval  510k_approval  num_events  \\\n",
       "0            1          868.5300             0              0           1   \n",
       "1            2          872.3630             0              1           6   \n",
       "2            2          872.3630             0              1           6   \n",
       "3            2          892.5050             0              1           1   \n",
       "4            1          888.1100             0              0          11   \n",
       "5            2          876.5820             0              1           2   \n",
       "6            1          878.4200             0              0           2   \n",
       "7            1          876.1500             0              0           4   \n",
       "8            2          876.1500             0              1          10   \n",
       "9            1          872.3980             0              0           2   \n",
       "\n",
       "   recall  \n",
       "0       1  \n",
       "1       1  \n",
       "2       1  \n",
       "3       1  \n",
       "4       1  \n",
       "5       1  \n",
       "6       1  \n",
       "7       1  \n",
       "8       1  \n",
       "9       1  "
      ]
     },
     "execution_count": 15,
     "metadata": {},
     "output_type": "execute_result"
    }
   ],
   "source": [
    "# group by and get counts -- removed manufacturer name because it adds unnecessary complexity \n",
    "event_counts = df_merged.groupby(['device_name', 'product_code', 'event_type', 'device_class', 'regulation_number', 'pma_approval', '510k_approval', 'recall']).size().reset_index(name='num_events')\n",
    "# reorder columns\n",
    "event_counts = event_counts[[\n",
    "    'device_name',\n",
    "    'product_code',\n",
    "    # 'prprc_manufacturer_d_name',\n",
    "    'event_type',\n",
    "    'device_class',\n",
    "    'regulation_number',\n",
    "    'pma_approval',\n",
    "    '510k_approval',\n",
    "    'num_events',\n",
    "    'recall' # output variable\n",
    "]]\n",
    "\n",
    "# drop empty device names\n",
    "event_counts = event_counts[event_counts['device_name'] != '']\n",
    "print('Result contains:', len(event_counts), 'rows\\n')\n",
    "event_counts.head(10)\n"
   ]
  },
  {
   "cell_type": "markdown",
   "id": "a93a76d9-9937-468e-a6d4-82f78cfce5c4",
   "metadata": {},
   "source": [
    "## train a model on given data\n"
   ]
  },
  {
   "cell_type": "code",
   "execution_count": 16,
   "id": "2c19a72a-1431-45f9-aa95-8c4bd3f7e1df",
   "metadata": {},
   "outputs": [],
   "source": [
    "from sklearn.model_selection import cross_val_score, GridSearchCV, cross_validate, train_test_split\n",
    "from sklearn.linear_model import LogisticRegression\n",
    "from sklearn.metrics import accuracy_score, classification_report\n",
    "import xgboost as xgb\n",
    "from sklearn.preprocessing import OneHotEncoder\n",
    "from sklearn.decomposition import PCA, SparsePCA\n"
   ]
  },
  {
   "cell_type": "code",
   "execution_count": 17,
   "id": "cad153b9-00d2-4833-8966-a0407bac6743",
   "metadata": {},
   "outputs": [],
   "source": [
    "categorical = ['product_code', 'event_type', 'device_class', 'regulation_number']\n",
    "numerical = ['pma_approval', '510k_approval', 'num_events']\n",
    "# assume we only have one text col to vectorize \n",
    "text = 'device_name' # ['device_name', 'prprc_manufacturer_d_name']\n"
   ]
  },
  {
   "cell_type": "code",
   "execution_count": 31,
   "id": "01cf65aa-04c7-4161-bec6-713faa9d3bba",
   "metadata": {},
   "outputs": [],
   "source": [
    "def preprocess_data(df, categorical, text, numerical, pca=None, encoder=None, vectorizer=None):\n",
    "    \"\"\"\n",
    "    given data df, convert\n",
    "    - categorical columns to numerical\n",
    "    - text to TFIDF \n",
    "    - nans in numerical cols (though at this point there shouldn't be)\n",
    "    \"\"\"\n",
    "    ######################################\n",
    "    cat_data = df[categorical]\n",
    "    if encoder is None:\n",
    "        encoder = OneHotEncoder(sparse_output=False, handle_unknown='ignore').set_output(transform='pandas')\n",
    "        encoder.fit(cat_data)\n",
    "    cat_data_encoded = encoder.transform(cat_data)\n",
    "    \n",
    "    ######################################\n",
    "    # convert text data into numerical representation\n",
    "    if vectorizer is None:\n",
    "        vectorizer = TfidfVectorizer()\n",
    "        vectorizer.fit(df[text])\n",
    "    text_data_vectorized = vectorizer.transform(df[text])\n",
    "   \n",
    "    # dimensionality reduction using pca and convert to df; tfidf returns sparse arrays\n",
    "    if pca is None:\n",
    "        # keep 500 cols\n",
    "        pca = PCA(n_components=500)\n",
    "        pca.fit(text_data_vectorized)\n",
    "    text_data_pca = pd.DataFrame(pca.transform(text_data_vectorized))\n",
    "    \n",
    "    ######################################    \n",
    "    # fill na for numerical\n",
    "    numerical_data = df[numerical]\n",
    "    for c in numerical:\n",
    "        numerical_data[c] = pd.to_numeric(numerical_data[c], errors='coerce').fillna(0)\n",
    "    \n",
    "    ######################################\n",
    "    # concat together\n",
    "    concat_data = pd.concat([cat_data_encoded, text_data_pca, numerical_data], axis=1)\n",
    "    print(concat_data.shape)\n",
    "\n",
    "    return concat_data, encoder, vectorizer, pca\n",
    "\n",
    "\n"
   ]
  },
  {
   "cell_type": "code",
   "execution_count": 32,
   "id": "2b78a7bb-3e59-432b-8d7a-5d56cc552f10",
   "metadata": {},
   "outputs": [
    {
     "name": "stdout",
     "output_type": "stream",
     "text": [
      "(1363, 2005)\n"
     ]
    },
    {
     "name": "stderr",
     "output_type": "stream",
     "text": [
      "C:\\Users\\prpar\\AppData\\Local\\Temp\\ipykernel_36356\\4196008724.py:33: SettingWithCopyWarning: \n",
      "A value is trying to be set on a copy of a slice from a DataFrame.\n",
      "Try using .loc[row_indexer,col_indexer] = value instead\n",
      "\n",
      "See the caveats in the documentation: https://pandas.pydata.org/pandas-docs/stable/user_guide/indexing.html#returning-a-view-versus-a-copy\n",
      "  numerical_data[c] = pd.to_numeric(numerical_data[c], errors='coerce').fillna(0)\n"
     ]
    }
   ],
   "source": [
    "data, encoder, vectorizer, pca = preprocess_data(event_counts, categorical, text, numerical)\n"
   ]
  },
  {
   "cell_type": "code",
   "execution_count": 33,
   "id": "7064cb60-a0a5-48a5-89a3-a9aec2664063",
   "metadata": {},
   "outputs": [
    {
     "name": "stdout",
     "output_type": "stream",
     "text": [
      "original shape:  (1363, 2005) (1363,)\n",
      "after split:\n",
      "\n",
      "(954, 2005) (954,)\n",
      "(409, 2005) (409,)\n"
     ]
    }
   ],
   "source": [
    "# split into X and y\n",
    "X = data\n",
    "y = event_counts.values[:, -1]\n",
    "print('original shape: ', X.shape, y.shape)\n",
    "X_train, X_test, y_train, y_test = train_test_split(X, y, test_size=0.3, random_state=62)\n",
    "print('after split:\\n')\n",
    "print(X_train.shape, y_train.shape)\n",
    "print(X_test.shape, y_test.shape)\n",
    "\n"
   ]
  },
  {
   "cell_type": "markdown",
   "id": "d0b08a2e-883f-4eae-ae74-753fd9fdf0d6",
   "metadata": {},
   "source": [
    "### xgboost example"
   ]
  },
  {
   "cell_type": "code",
   "execution_count": 34,
   "id": "49c23344-2742-4b1f-a69d-3cf2c2efbc8f",
   "metadata": {},
   "outputs": [
    {
     "name": "stdout",
     "output_type": "stream",
     "text": [
      "----------- XGBoost runtime: 2.4688196182250977 seconds -----------\n"
     ]
    }
   ],
   "source": [
    "start = time.time()\n",
    "model = xgb.XGBClassifier(n_estimators=50, random_state=62, objective='binary:logistic', eval_metric='logloss') \n",
    "model.fit(X_train, y_train)\n",
    "print(f'----------- XGBoost runtime: {time.time() - start} seconds -----------')"
   ]
  },
  {
   "cell_type": "code",
   "execution_count": 35,
   "id": "47ac95e0-f3cd-4fdc-9f3e-f136cd61a786",
   "metadata": {},
   "outputs": [
    {
     "name": "stdout",
     "output_type": "stream",
     "text": [
      "Accuracy: 92.18%\n"
     ]
    }
   ],
   "source": [
    "# predict on test set\n",
    "predictions = model.predict(X_test)\n",
    "accuracy = accuracy_score(y_test.astype(int), predictions)\n",
    "print(f'Accuracy: {accuracy * 100:.2f}%')"
   ]
  },
  {
   "cell_type": "code",
   "execution_count": null,
   "id": "8b505040-f36e-4755-bcb5-40cba3933ea2",
   "metadata": {},
   "outputs": [
    {
     "name": "stdout",
     "output_type": "stream",
     "text": [
      "probability of device 49 having recall: 93.78930926322937%\n"
     ]
    }
   ],
   "source": [
    "# emulate getting \"score\" of recall aka probability recall happens\n",
    "import random\n",
    "random_sample = random.randint(0, len(X_test)-1) \n",
    "score = model.predict_proba(X_test.iloc[[random_sample]])[0]\n",
    "print(f'probability of device {random_sample} having recall: {float(score[1]) * 100}%')"
   ]
  },
  {
   "cell_type": "code",
   "execution_count": 41,
   "id": "b57a4ee7-b913-4d7d-a98d-9c2be5174ee6",
   "metadata": {},
   "outputs": [
    {
     "data": {
      "text/plain": [
       "<Axes: >"
      ]
     },
     "execution_count": 41,
     "metadata": {},
     "output_type": "execute_result"
    },
    {
     "data": {
      "image/png": "[encoded data removed]",
      "text/plain": [
       "<Figure size 640x480 with 1 Axes>"
      ]
     },
     "metadata": {},
     "output_type": "display_data"
    }
   ],
   "source": [
    "# show most important features\n",
    "feature_importance = model.get_booster().get_score(importance_type='weight')\n",
    "keys = list(feature_importance.keys())\n",
    "values = list(feature_importance.values())\n",
    "\n",
    "data = pd.DataFrame(data=values, index=keys, columns=['weight']).sort_values(by='weight', ascending=False)\n",
    "data.nlargest(5, columns='weight').plot(kind='barh')"
   ]
  },
  {
   "cell_type": "markdown",
   "id": "43516ca6-d84f-4335-be84-f68aad081efa",
   "metadata": {},
   "source": [
    "It looks like the number of device events is the best indicator of a recall."
   ]
  },
  {
   "cell_type": "code",
   "execution_count": 36,
   "id": "3f0a83f7-1609-4873-961d-b3428a25e19d",
   "metadata": {},
   "outputs": [],
   "source": [
    "# save model and encoders to pickle\n",
    "with open('xgboost/classifier.pkl', 'wb') as f:\n",
    "    pickle.dump(model, f)\n",
    "\n",
    "with open('xgboost/pca.pkl', 'wb') as f:\n",
    "    pickle.dump(pca, f)\n",
    "\n",
    "with open('xgboost/vectorizer.pkl', 'wb') as f:\n",
    "    pickle.dump(vectorizer, f)\n",
    "\n",
    "with open('xgboost/encoder.pkl', 'wb') as f:\n",
    "    pickle.dump(encoder, f)"
   ]
  },
  {
   "cell_type": "code",
   "execution_count": null,
   "id": "e0c8ed15-dad4-4989-afd4-72d7924eb202",
   "metadata": {},
   "outputs": [],
   "source": []
  },
  {
   "cell_type": "code",
   "execution_count": null,
   "id": "397e23a2-f825-44e6-bbf3-73f61d87d463",
   "metadata": {},
   "outputs": [],
   "source": []
  },
  {
   "cell_type": "markdown",
   "id": "c9769250-9c24-4061-a51f-33c4246a2fd9",
   "metadata": {},
   "source": [
    "## regular logreg example\n"
   ]
  },
  {
   "cell_type": "code",
   "execution_count": 57,
   "id": "54443a26-1d57-4bac-b312-96f038a744d9",
   "metadata": {},
   "outputs": [
    {
     "name": "stdout",
     "output_type": "stream",
     "text": [
      "----------- LinearRegression runtime: 0.10777735710144043 seconds -----------\n"
     ]
    }
   ],
   "source": [
    "start = time.time()\n",
    "model = LogisticRegression() \n",
    "model.fit(X_train.values, y_train)\n",
    "print(f'----------- LinearRegression runtime: {time.time() - start} seconds -----------')"
   ]
  },
  {
   "cell_type": "code",
   "execution_count": 59,
   "id": "3fffe28a-be36-444c-b571-749dd9bb8e7a",
   "metadata": {},
   "outputs": [
    {
     "name": "stdout",
     "output_type": "stream",
     "text": [
      "Accuracy: 91.44%\n"
     ]
    }
   ],
   "source": [
    "# predict on test set\n",
    "predictions = model.predict(X_test.values)\n",
    "accuracy = accuracy_score(y_test.values, predictions)\n",
    "print(f'Accuracy: {accuracy * 100:.2f}%')"
   ]
  },
  {
   "cell_type": "code",
   "execution_count": 61,
   "id": "fbbd5987-53b1-4088-9af6-8a87d873f3d0",
   "metadata": {},
   "outputs": [
    {
     "name": "stdout",
     "output_type": "stream",
     "text": [
      "probability of device 111 having recall: 90.52380233093173%\n"
     ]
    }
   ],
   "source": [
    "# emulate getting \"score\" of recall aka probability recall happens\n",
    "import random\n",
    "random_sample = random.randint(0, len(X_test)-1) \n",
    "score = model.predict_proba(X_test.iloc[[random_sample]].values)[0]\n",
    "print(f'probability of device {random_sample} having recall: {float(score[1]) * 100}%')"
   ]
  },
  {
   "cell_type": "code",
   "execution_count": 69,
   "id": "e3cbcb6d-e9c8-41b9-9945-f1233e284b2a",
   "metadata": {},
   "outputs": [
    {
     "data": {
      "text/plain": [
       "np.float64(0.03727014935250105)"
      ]
     },
     "execution_count": 69,
     "metadata": {},
     "output_type": "execute_result"
    }
   ],
   "source": []
  },
  {
   "cell_type": "code",
   "execution_count": 70,
   "id": "74c7e109-6edf-42ea-bcbe-e3189ddf4f73",
   "metadata": {},
   "outputs": [
    {
     "data": {
      "text/plain": [
       "<Axes: >"
      ]
     },
     "execution_count": 70,
     "metadata": {},
     "output_type": "execute_result"
    },
    {
     "data": {
      "image/png": "[encoded data removed]",
      "text/plain": [
       "<Figure size 640x480 with 1 Axes>"
      ]
     },
     "metadata": {},
     "output_type": "display_data"
    }
   ],
   "source": [
    "# show most important features\n",
    "keys = [c for c in X_train.columns]\n",
    "values = list( model.coef_[0])\n",
    "\n",
    "data = pd.DataFrame(data=values, index=keys, columns=['weight']).sort_values(by='weight', ascending=False)\n",
    "data.nlargest(5, columns='weight').plot(kind='barh')"
   ]
  },
  {
   "cell_type": "code",
   "execution_count": 72,
   "id": "d6d36187-f143-465e-92e9-932154a9117a",
   "metadata": {},
   "outputs": [],
   "source": [
    "# save model and encoders to pickle\n",
    "with open('logreg/classifier.pkl', 'wb') as f:\n",
    "    pickle.dump(model, f)\n",
    "\n",
    "with open('logreg/pca.pkl', 'wb') as f:\n",
    "    pickle.dump(pca, f)\n",
    "\n",
    "with open('logreg/vectorizer.pkl', 'wb') as f:\n",
    "    pickle.dump(vectorizer, f)\n",
    "\n",
    "with open('logreg/encoder.pkl', 'wb') as f:\n",
    "    pickle.dump(encoder, f)"
   ]
  },
  {
   "cell_type": "code",
   "execution_count": null,
   "id": "82ca61c1-04ff-49a3-979c-947fc09838f7",
   "metadata": {},
   "outputs": [],
   "source": []
  },
  {
   "cell_type": "markdown",
   "id": "59b504c5-5bb2-4ab8-8808-ca8b19aa8412",
   "metadata": {},
   "source": [
    "### Notes"
   ]
  },
  {
   "cell_type": "code",
   "execution_count": null,
   "id": "2635ad6d-53e7-4b71-8033-8892eb05f711",
   "metadata": {},
   "outputs": [],
   "source": [
    "# use pyspark\n",
    "# use colab to train full model \n",
    "# in UI:\n",
    "### have search for device name\n",
    "### do fuzzy search in table --> create function\n",
    "### collect and preprocess data for model\n",
    "### output likelihood of recall\n",
    "\n",
    "## TODO - create func to preprocess incoming input.\n",
    "\n",
    "## TODO - create streamlist page to test model or integrate with Will's"
   ]
  },
  {
   "cell_type": "code",
   "execution_count": null,
   "id": "d21375e4-c809-4d50-a8e1-572affc652a9",
   "metadata": {},
   "outputs": [],
   "source": [
    "## QUERY to get matches on exact device names\n",
    "# select count(*) from device d \n",
    "# join device_classification c on c.device_name = d.openfda_device_name \n",
    "# left join (select openfda_device_name, count(*) num_recalls from recall group by openfda_device_name) r on r.openfda_device_name = c.device_name;"
   ]
  }
 ],
 "metadata": {
  "kernelspec": {
   "display_name": "Python 3",
   "language": "python",
   "name": "python3"
  },
  "language_info": {
   "codemirror_mode": {
    "name": "ipython",
    "version": 3
   },
   "file_extension": ".py",
   "mimetype": "text/x-python",
   "name": "python",
   "nbconvert_exporter": "python",
   "pygments_lexer": "ipython3",
   "version": "3.10.11"
  }
 },
 "nbformat": 4,
 "nbformat_minor": 5
}
